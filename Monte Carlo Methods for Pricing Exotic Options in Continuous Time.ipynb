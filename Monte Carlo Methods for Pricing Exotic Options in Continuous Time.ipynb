{
 "cells": [
  {
   "cell_type": "code",
   "execution_count": 28,
   "id": "8196e474",
   "metadata": {},
   "outputs": [
    {
     "name": "stdout",
     "output_type": "stream",
     "text": [
      "12.632638031371743\n"
     ]
    }
   ],
   "source": [
    "import numpy as np\n",
    "import random\n",
    "import math\n",
    "import matplotlib.pyplot as plt\n",
    "\n",
    "def stock_sim(r = 2, u = 1, Xzero = 1, t = 1, n = 256, R = 1):\n",
    "    dt = 1/n\n",
    "    # dw = np.sqrt(dt)*np.random.randn(1, n)\n",
    "    # w = np.cumsum(dw)\n",
    "    Dt = R*dt\n",
    "    la = n//R\n",
    "    Xem = np.zeros(la+1, dtype = 'float')\n",
    "    Xem[0] = Xzero\n",
    "    Xtemp = Xzero\n",
    "    for j in range(1, la+1):\n",
    "        # Winc = np.sum(dw[0][R*(j-1)+1:R*j])\n",
    "        Xtemp = Xtemp + (Dt*r*Xtemp) + (u*Xtemp*np.sqrt(dt)*np.random.randn(1, 1))\n",
    "        Xem[j] = Xtemp\n",
    "    return Xem\n",
    "\n",
    "def price_asian_call(t, strike, a, interestRate, n, u, R, numTrials = 1e4):\n",
    "    v0 = 0\n",
    "    for i in range(numTrials):\n",
    "        stock = stock_sim(interestRate, u, a, t, n, R)\n",
    "        y = np.sum(stock)/n\n",
    "        v0 += max(y-strike, 0)\n",
    "    v0 = v0/numTrials # Averaging\n",
    "    v0 = v0/(np.exp(interestRate*t)) # Normalizing\n",
    "    return v0\n",
    "    \n",
    "m = 1000 # Number of Trials\n",
    "t = 1 # Time\n",
    "a = 50 # First Term\n",
    "k = 40 # Strike Price\n",
    "r = 0.1 # Interest Rate\n",
    "n = 40 \n",
    "u = 0.3\n",
    "R = 1\n",
    "\n",
    "print(price_asian_call(t, k, a, r, n, u, R, m))"
   ]
  }
 ],
 "metadata": {
  "kernelspec": {
   "display_name": "Python 3 (ipykernel)",
   "language": "python",
   "name": "python3"
  },
  "language_info": {
   "codemirror_mode": {
    "name": "ipython",
    "version": 3
   },
   "file_extension": ".py",
   "mimetype": "text/x-python",
   "name": "python",
   "nbconvert_exporter": "python",
   "pygments_lexer": "ipython3",
   "version": "3.9.12"
  }
 },
 "nbformat": 4,
 "nbformat_minor": 5
}
