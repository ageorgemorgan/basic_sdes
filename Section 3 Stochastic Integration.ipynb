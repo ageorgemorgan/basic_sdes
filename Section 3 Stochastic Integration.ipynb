{
 "cells": [
  {
   "cell_type": "code",
   "execution_count": 88,
   "id": "5ba2037d",
   "metadata": {},
   "outputs": [
    {
     "name": "stdout",
     "output_type": "stream",
     "text": [
      "-0.2347591246206349 0.27478543340687134 0.0020830228892391445 0.007461535138267084\n"
     ]
    }
   ],
   "source": [
    "from matplotlib import pyplot as plt\n",
    "import numpy as np\n",
    "import random\n",
    "import math\n",
    "\n",
    "t = 1\n",
    "n = 10000\n",
    "dt = t/n\n",
    "\n",
    "dw = np.sqrt(dt)*np.random.randn(1, n)\n",
    "w = np.cumsum(dw)\n",
    "integrand = np.zeros(n, dtype='float')\n",
    "integrand[1:] = w[:-1]\n",
    "ito = np.sum(integrand*dw)\n",
    "strat = np.sum((0.5*(integrand+w) + 0.5*np.sqrt(dt)*np.random.randn(1,n))*dw)\n",
    "itoerr = np.abs(ito - 0.5*(w[n-1]**2-t))\n",
    "straterr = np.abs(strat - 0.5*w[n-1]**2)\n",
    "\n",
    "print(ito, strat, itoerr, straterr)"
   ]
  },
  {
   "cell_type": "code",
   "execution_count": null,
   "id": "e44894ba",
   "metadata": {},
   "outputs": [],
   "source": [
    "from matplotlib import pyplot as plt\n",
    "import numpy as np\n",
    "import random\n",
    "import math\n",
    "\n",
    "l = 2\n",
    "u = 1\n",
    "Xzero = 1\n",
    "t = 1\n",
    "n = 256\n",
    "dt = 1/n\n",
    "dw = np.sqrt(dt)*np.random.randn(1, n)\n",
    "w = np.cumsum(dw)\n",
    "times = []\n",
    "for i in range(1, n+1):\n",
    "    times.append(i/n)\n",
    "times = np.array(times)\n",
    "Xtrue = Xzero*np.exp((l-0.5*u**2)*(times) + u*w)\n",
    "\n",
    "r = 4\n",
    "Dt = r*dt\n",
    "la = n//r\n",
    "Xem = np.zeros(la+1, dtype = 'float')\n",
    "Xem[0] = Xzero\n",
    "Xtemp = Xzero\n",
    "for j in range(1, la+1):\n",
    "    Winc = np.sum(dw[0][r*(j-1)+1:r*j])\n",
    "    Xtemp = Xtemp + (Dt*l*Xtemp) + (u*Xtemp*Winc)\n",
    "    Xem[j] = Xtemp\n",
    "plt.plot(np.arange(0, t, Dt), Xem[1:], color = 'blue', linestyle = 'solid')\n",
    "plt.plot(np.arange(0, t, dt), Xtrue, color = 'red', linestyle = 'solid')\n",
    "plt.title(\"The Euler-Maruyama Method\", fontsize = 'x-large')\n",
    "plt.ylabel(\"X\", fontsize = 'x-large')\n",
    "plt.xlabel(\"Time\", fontsize = 'x-large')\n",
    "plt.show()\n",
    "\n",
    "emerr = np.abs(Xem[-1]-Xtrue[-1])\n",
    "print(\"Error:\", emerr)"
   ]
  },
  {
   "cell_type": "code",
   "execution_count": 47,
   "id": "8552bf9b",
   "metadata": {
    "scrolled": true
   },
   "outputs": [
    {
     "data": {
      "image/png": "[encoded data removed]",
      "text/plain": [
       "<Figure size 432x288 with 1 Axes>"
      ]
     },
     "metadata": {
      "needs_background": "light"
     },
     "output_type": "display_data"
    }
   ],
   "source": [
    "from matplotlib import pyplot as plt\n",
    "import numpy as np\n",
    "import random\n",
    "import math\n",
    "\n",
    "l = 2\n",
    "u = 1\n",
    "Xzero = 1\n",
    "t = 1\n",
    "n = 512\n",
    "m = 1000\n",
    "Xerr = np.zeros((5, m), dtype = \"float\")\n",
    "dt = 1/n\n",
    "for s in range(m):\n",
    "    dw = np.sqrt(dt)*np.random.randn(1, n)\n",
    "    w = np.cumsum(dw)\n",
    "    Xtrue = Xzero*np.exp((l-0.5*u**2) + u*w)\n",
    "    for p in range(5):\n",
    "        R = 2**(p-1)\n",
    "        Dt = R*dt\n",
    "        L = n/R\n",
    "        Xtemp = Xzero\n",
    "        for j in range(int(L)):\n",
    "            Winc = np.sum(dw[0][r*(j-1):r*j+1]) \n",
    "            Xtemp = Xtemp + (Dt*l*Xtemp) + (u*Xtemp*Winc)\n",
    "        Xerr[p][s] = abs(Xtemp - Xtrue[n-1])\n",
    "\n",
    "Dtvals = dt*np.power(2, [0, 1, 2, 3, 4])        \n",
    "plt.subplot(2, 2, 1)\n",
    "plt.loglog(Dtvals, [np.mean(Xerr[0]), np.mean(Xerr[1]), np.mean(Xerr[2]), np.mean(Xerr[3]), np.mean(Xerr[4])])\n",
    "plt.loglog(Dtvals, np.power(Dtvals, 0.5))\n",
    "plt.axis([1e-3, 1e-1, 1e-4, 1])\n",
    "plt.title(\"emstrong.m\", fontsize = 'x-large')\n",
    "plt.ylabel(\"Sample average of $| X(T) - X_L |$\", fontsize = 'x-large')\n",
    "plt.xlabel(\"deltaT\", fontsize = 'x-large')\n",
    "plt.show()"
   ]
  }
 ],
 "metadata": {
  "kernelspec": {
   "display_name": "Python 3 (ipykernel)",
   "language": "python",
   "name": "python3"
  },
  "language_info": {
   "codemirror_mode": {
    "name": "ipython",
    "version": 3
   },
   "file_extension": ".py",
   "mimetype": "text/x-python",
   "name": "python",
   "nbconvert_exporter": "python",
   "pygments_lexer": "ipython3",
   "version": "3.9.12"
  }
 },
 "nbformat": 4,
 "nbformat_minor": 5
}
