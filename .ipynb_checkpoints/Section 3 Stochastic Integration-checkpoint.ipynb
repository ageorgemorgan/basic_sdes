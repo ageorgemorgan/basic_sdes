{
 "cells": [
  {
   "cell_type": "code",
   "execution_count": 226,
   "id": "5ba2037d",
   "metadata": {},
   "outputs": [
    {
     "name": "stdout",
     "output_type": "stream",
     "text": [
      "1.6139696355839774 1.61838528028355 1.047482182601622 0.5518978273011947\n"
     ]
    }
   ],
   "source": [
    "from matplotlib import pyplot as plt\n",
    "import numpy as np\n",
    "import random\n",
    "import math\n",
    "\n",
    "t = 1\n",
    "n = 1000\n",
    "dt = t/n\n",
    "\n",
    "dw = np.sqrt(dt)*np.random.randn(1, n)\n",
    "w = np.cumsum(dw)\n",
    "\n",
    "ito = np.sum(w*dw)\n",
    "# strat = np.sum((0.5*(np.reshape(w[0:n-1], (1, n-1))+np.reshape(w[1:n], (1, n-1))) + 0.5*np.sqrt(dt)*np.random.randn(1,n))*dw)?\n",
    "strat = np.sum((0.5*(w+w) + 0.5*np.sqrt(dt)*np.random.randn(1,n))*dw)\n",
    "itoerr = np.abs(ito - 0.5*(w[n-1]**2-t))\n",
    "straterr = np.abs(strat - 0.5*w[n-1]**2)\n",
    "\n",
    "print(ito, strat, itoerr, straterr)"
   ]
  }
 ],
 "metadata": {
  "kernelspec": {
   "display_name": "Python 3 (ipykernel)",
   "language": "python",
   "name": "python3"
  },
  "language_info": {
   "codemirror_mode": {
    "name": "ipython",
    "version": 3
   },
   "file_extension": ".py",
   "mimetype": "text/x-python",
   "name": "python",
   "nbconvert_exporter": "python",
   "pygments_lexer": "ipython3",
   "version": "3.9.12"
  }
 },
 "nbformat": 4,
 "nbformat_minor": 5
}
