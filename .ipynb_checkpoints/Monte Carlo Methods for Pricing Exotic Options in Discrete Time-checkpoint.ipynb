{
 "cells": [
  {
   "cell_type": "code",
   "execution_count": 12,
   "id": "495dfd79",
   "metadata": {},
   "outputs": [
    {
     "name": "stdout",
     "output_type": "stream",
     "text": [
      "1.21692928\n"
     ]
    }
   ],
   "source": [
    "import numpy as np\n",
    "import random\n",
    "import math\n",
    "\n",
    "def stock_sim(t, a, u, d, p, q):\n",
    "    stockChange = np.zeros(t+1, dtype = 'float')\n",
    "    stockChange[0] = a\n",
    "    stockChange[1:] = (np.random.choice([u, d], t, p=[p, q]))\n",
    "    stock = np.cumprod(stockChange)\n",
    "    return stock\n",
    "\n",
    "def price_asian_call(t, strike, interestRate, u, d, p, q, numTrials = 1e4):\n",
    "    v0 = 0\n",
    "    for i in range(numTrials):\n",
    "        stock = stock_sim(t, a, u, d, p, q)\n",
    "        y = np.sum(stock)\n",
    "        v0 += max(y/(t+1)-strike, 0)\n",
    "    v0 = v0/numTrials # Averaging\n",
    "    v0 = v0/((1+interestRate)**t) # Normalizing\n",
    "    return v0\n",
    "    \n",
    "m = 100000 # Number of Trials\n",
    "t = 3 # Time\n",
    "a = 4 # First Term\n",
    "k = 4 # Strike Price\n",
    "r = 0.25 # Interest Rate\n",
    "u = 2\n",
    "d = 1/2\n",
    "p = 1/2\n",
    "q = 1/2\n",
    "\n",
    "print(price_asian_call(t, k, r, u, d, p, q, m))"
   ]
  }
 ],
 "metadata": {
  "kernelspec": {
   "display_name": "Python 3 (ipykernel)",
   "language": "python",
   "name": "python3"
  },
  "language_info": {
   "codemirror_mode": {
    "name": "ipython",
    "version": 3
   },
   "file_extension": ".py",
   "mimetype": "text/x-python",
   "name": "python",
   "nbconvert_exporter": "python",
   "pygments_lexer": "ipython3",
   "version": "3.9.12"
  }
 },
 "nbformat": 4,
 "nbformat_minor": 5
}
