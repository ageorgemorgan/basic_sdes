{
 "cells": [
  {
   "cell_type": "code",
   "execution_count": 12,
   "id": "495dfd79",
   "metadata": {},
   "outputs": [
    {
     "name": "stdout",
     "output_type": "stream",
     "text": [
      "1.21692928\n"
     ]
    }
   ],
   "source": [
    "import numpy as np\n",
    "import random\n",
    "import math\n",
    "\n",
    "def stock_sim(t, a, u, d, p, q):\n",
    "    stockChange = np.zeros(t+1, dtype = 'float')\n",
    "    stockChange[0] = a\n",
    "    stockChange[1:] = (np.random.choice([u, d], t, p=[p, q]))\n",
    "    stock = np.cumprod(stockChange)\n",
    "    return stock\n",
    "\n",
    "def price_asian_call(t, strike, interestRate, u, d, p, q, numTrials = 1e4):\n",
    "    v0 = 0\n",
    "    for i in range(numTrials):\n",
    "        stock = stock_sim(t, a, u, d, p, q)\n",
    "        y = np.sum(stock)\n",
    "        v0 += max(y/(t+1)-strike, 0)\n",
    "    v0 = v0/numTrials # Averaging\n",
    "    v0 = v0/((1+interestRate)**t) # Normalizing\n",
    "    return v0\n",
    "    \n",
    "m = 100000 # Number of Trials\n",
    "t = 3 # Time\n",
    "a = 4 # First Term\n",
    "k = 4 # Strike Price\n",
    "r = 0.25 # Interest Rate\n",
    "u = 2\n",
    "d = 1/2\n",
    "p = 1/2\n",
    "q = 1/2\n",
    "\n",
    "print(price_asian_call(t, k, r, u, d, p, q, m))"
   ]
  },
  {
   "cell_type": "code",
   "execution_count": 4,
   "id": "29f942a1",
   "metadata": {},
   "outputs": [
    {
     "ename": "TypeError",
     "evalue": "slice indices must be integers or None or have an __index__ method",
     "output_type": "error",
     "traceback": [
      "\u001b[1;31m---------------------------------------------------------------------------\u001b[0m",
      "\u001b[1;31mTypeError\u001b[0m                                 Traceback (most recent call last)",
      "Input \u001b[1;32mIn [4]\u001b[0m, in \u001b[0;36m<cell line: 37>\u001b[1;34m()\u001b[0m\n\u001b[0;32m     34\u001b[0m k \u001b[38;5;241m=\u001b[39m \u001b[38;5;241m4\u001b[39m \u001b[38;5;66;03m# Strike Price\u001b[39;00m\n\u001b[0;32m     35\u001b[0m r \u001b[38;5;241m=\u001b[39m \u001b[38;5;241m0.25\u001b[39m \u001b[38;5;66;03m# Interest Rate\u001b[39;00m\n\u001b[1;32m---> 37\u001b[0m \u001b[38;5;28mprint\u001b[39m(\u001b[43mprice_asian_call\u001b[49m\u001b[43m(\u001b[49m\u001b[43mt\u001b[49m\u001b[43m,\u001b[49m\u001b[43m \u001b[49m\u001b[43mk\u001b[49m\u001b[43m,\u001b[49m\u001b[43m \u001b[49m\u001b[43mr\u001b[49m\u001b[43m,\u001b[49m\u001b[43m \u001b[49m\u001b[43mm\u001b[49m\u001b[43m)\u001b[49m)\n",
      "Input \u001b[1;32mIn [4]\u001b[0m, in \u001b[0;36mprice_asian_call\u001b[1;34m(t, strike, interestRate, numTrials)\u001b[0m\n\u001b[0;32m     22\u001b[0m v0 \u001b[38;5;241m=\u001b[39m \u001b[38;5;241m0\u001b[39m\n\u001b[0;32m     23\u001b[0m \u001b[38;5;28;01mfor\u001b[39;00m i \u001b[38;5;129;01min\u001b[39;00m \u001b[38;5;28mrange\u001b[39m(numTrials):\n\u001b[1;32m---> 24\u001b[0m     stock \u001b[38;5;241m=\u001b[39m \u001b[43mstock_sim\u001b[49m\u001b[43m(\u001b[49m\u001b[38;5;241;43m2\u001b[39;49m\u001b[43m,\u001b[49m\u001b[43m \u001b[49m\u001b[38;5;241;43m1\u001b[39;49m\u001b[43m,\u001b[49m\u001b[43m \u001b[49m\u001b[38;5;241;43m1\u001b[39;49m\u001b[43m,\u001b[49m\u001b[43m \u001b[49m\u001b[38;5;241;43m1\u001b[39;49m\u001b[43m,\u001b[49m\u001b[43m \u001b[49m\u001b[38;5;241;43m512\u001b[39;49m\u001b[43m,\u001b[49m\u001b[43m \u001b[49m\u001b[38;5;241;43m1000\u001b[39;49m\u001b[43m)\u001b[49m\n\u001b[0;32m     25\u001b[0m     y \u001b[38;5;241m=\u001b[39m np\u001b[38;5;241m.\u001b[39msum(stock)\n\u001b[0;32m     26\u001b[0m     v0 \u001b[38;5;241m+\u001b[39m\u001b[38;5;241m=\u001b[39m \u001b[38;5;28mmax\u001b[39m(y\u001b[38;5;241m/\u001b[39m(t\u001b[38;5;241m+\u001b[39m\u001b[38;5;241m1\u001b[39m)\u001b[38;5;241m-\u001b[39mstrike, \u001b[38;5;241m0\u001b[39m)\n",
      "Input \u001b[1;32mIn [4]\u001b[0m, in \u001b[0;36mstock_sim\u001b[1;34m(l, u, Xzero, t, n, m)\u001b[0m\n\u001b[0;32m     15\u001b[0m         Xtemp \u001b[38;5;241m=\u001b[39m Xzero\n\u001b[0;32m     16\u001b[0m         \u001b[38;5;28;01mfor\u001b[39;00m j \u001b[38;5;129;01min\u001b[39;00m \u001b[38;5;28mrange\u001b[39m(\u001b[38;5;28mint\u001b[39m(L)):\n\u001b[1;32m---> 17\u001b[0m             Winc \u001b[38;5;241m=\u001b[39m np\u001b[38;5;241m.\u001b[39msum(\u001b[43mdw\u001b[49m\u001b[43m[\u001b[49m\u001b[38;5;241;43m0\u001b[39;49m\u001b[43m]\u001b[49m\u001b[43m[\u001b[49m\u001b[43mr\u001b[49m\u001b[38;5;241;43m*\u001b[39;49m\u001b[43m(\u001b[49m\u001b[43mj\u001b[49m\u001b[38;5;241;43m-\u001b[39;49m\u001b[38;5;241;43m1\u001b[39;49m\u001b[43m)\u001b[49m\u001b[43m:\u001b[49m\u001b[43mr\u001b[49m\u001b[38;5;241;43m*\u001b[39;49m\u001b[43mj\u001b[49m\u001b[38;5;241;43m+\u001b[39;49m\u001b[38;5;241;43m1\u001b[39;49m\u001b[43m]\u001b[49m) \n\u001b[0;32m     18\u001b[0m             Xtemp \u001b[38;5;241m=\u001b[39m Xtemp \u001b[38;5;241m+\u001b[39m (Dt\u001b[38;5;241m*\u001b[39ml\u001b[38;5;241m*\u001b[39mXtemp) \u001b[38;5;241m+\u001b[39m (u\u001b[38;5;241m*\u001b[39mXtemp\u001b[38;5;241m*\u001b[39mWinc)\n\u001b[0;32m     19\u001b[0m \u001b[38;5;28;01mreturn\u001b[39;00m Xtemp\n",
      "\u001b[1;31mTypeError\u001b[0m: slice indices must be integers or None or have an __index__ method"
     ]
    }
   ],
   "source": [
    "import numpy as np\n",
    "import random\n",
    "import math\n",
    "\n",
    "def stock_sim(l, u, Xzero, t, n, m):\n",
    "    dt = 1/n\n",
    "    for s in range(m):\n",
    "        dw = np.sqrt(dt)*np.random.randn(1, n)\n",
    "        w = np.cumsum(dw)\n",
    "        Xtrue = Xzero*np.exp((l-0.5*u**2) + u*w)\n",
    "        for p in range(5):\n",
    "            R = 2**(p-1)\n",
    "            Dt = R*dt\n",
    "            L = n/R\n",
    "            Xtemp = Xzero\n",
    "            for j in range(int(L)):\n",
    "                Winc = np.sum(dw[0][r*(j-1):r*j+1]) \n",
    "                Xtemp = Xtemp + (Dt*l*Xtemp) + (u*Xtemp*Winc)\n",
    "    return Xtemp\n",
    "\n",
    "def price_asian_call(t, strike, interestRate, numTrials = 1e4):\n",
    "    v0 = 0\n",
    "    for i in range(numTrials):\n",
    "        stock = stock_sim(2, 1, 1, 1, 512, 1000)\n",
    "        y = np.sum(stock)\n",
    "        v0 += max(y/(t+1)-strike, 0)\n",
    "    v0 = v0/numTrials # Averaging\n",
    "    v0 = v0/((1+interestRate)**t) # Normalizing\n",
    "    return v0\n",
    "    \n",
    "m = 10000 # Number of Trials\n",
    "t = 3 # Time\n",
    "a = 4 # First Term\n",
    "k = 4 # Strike Price\n",
    "r = 0.25 # Interest Rate\n",
    "\n",
    "print(price_asian_call(t, k, r, m))"
   ]
  }
 ],
 "metadata": {
  "kernelspec": {
   "display_name": "Python 3 (ipykernel)",
   "language": "python",
   "name": "python3"
  },
  "language_info": {
   "codemirror_mode": {
    "name": "ipython",
    "version": 3
   },
   "file_extension": ".py",
   "mimetype": "text/x-python",
   "name": "python",
   "nbconvert_exporter": "python",
   "pygments_lexer": "ipython3",
   "version": "3.9.12"
  }
 },
 "nbformat": 4,
 "nbformat_minor": 5
}
