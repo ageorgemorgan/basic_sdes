{
 "cells": [
  {
   "cell_type": "code",
   "execution_count": 17,
   "id": "9036daf3",
   "metadata": {},
   "outputs": [
    {
     "name": "stdout",
     "output_type": "stream",
     "text": [
      "1.2214528\n"
     ]
    }
   ],
   "source": [
    "import numpy as np\n",
    "import random\n",
    "import math\n",
    "\n",
    "def stock_sim(t, a):\n",
    "    stockChange = np.zeros(t+1, dtype = 'float')\n",
    "    stockChange[0] = a\n",
    "    stockChange[1:] = (np.random.choice([1/2, 2], t))\n",
    "    stock = np.cumprod(stockChange)\n",
    "    return stock\n",
    "\n",
    "def price_asian_call(t, strike, interestRate, numTrials = 1e4):\n",
    "    v0 = 0\n",
    "    for i in range(numTrials):\n",
    "        stock = stock_sim(t, a)\n",
    "        y = np.sum(stock)\n",
    "        v0 += max(y/(t+1)-strike, 0)\n",
    "    v0 = v0/numTrials # Averaging\n",
    "    v0 = v0/((1+interestRate)**t) # Normalizing\n",
    "    return v0\n",
    "    \n",
    "m = 10000\n",
    "t = 3 # Time\n",
    "a = 4 # First term\n",
    "k = 4 # Strike price\n",
    "r = 0.25 # Interest rate\n",
    "\n",
    "print(price_asian_call(t, k, r, m))"
   ]
  }
 ],
 "metadata": {
  "kernelspec": {
   "display_name": "Python 3 (ipykernel)",
   "language": "python",
   "name": "python3"
  },
  "language_info": {
   "codemirror_mode": {
    "name": "ipython",
    "version": 3
   },
   "file_extension": ".py",
   "mimetype": "text/x-python",
   "name": "python",
   "nbconvert_exporter": "python",
   "pygments_lexer": "ipython3",
   "version": "3.9.12"
  }
 },
 "nbformat": 4,
 "nbformat_minor": 5
}
